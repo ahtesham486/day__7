{
 "cells": [
  {
   "cell_type": "markdown",
   "metadata": {},
   "source": [
    "# lambda  function in python "
   ]
  },
  {
   "cell_type": "code",
   "execution_count": 1,
   "metadata": {},
   "outputs": [
    {
     "name": "stdout",
     "output_type": "stream",
     "text": [
      "9.14\n"
     ]
    },
    {
     "data": {
      "text/plain": [
       "9.14"
      ]
     },
     "execution_count": 1,
     "metadata": {},
     "output_type": "execute_result"
    }
   ],
   "source": [
    "# define function using def \n",
    "def f(x):\n",
    "    return x+6\n",
    "print(f(3.14))\n",
    "\n",
    "# defining the same function using lambda\n",
    "(lambda x:x+6)(3.14)"
   ]
  },
  {
   "cell_type": "code",
   "execution_count": 2,
   "metadata": {},
   "outputs": [
    {
     "name": "stdout",
     "output_type": "stream",
     "text": [
      "The sum of 3.14 and 2.718 is 5.8580000000000005\n",
      "the sum of pi and euler number is :   5.8580000000000005\n"
     ]
    }
   ],
   "source": [
    "# defining  the function using def \n",
    "def f(x,y):\n",
    "  return x+y\n",
    "print('The sum of {} and {} is'.format(3.14, 2.718), f(3.14, 2.718))\n",
    "\n",
    "# defining the same function using lambda\n",
    "print(f\"the sum of pi and euler number is :   {(lambda x,y:x+y)(3.14 ,2.718)}\")"
   ]
  },
  {
   "cell_type": "code",
   "execution_count": 3,
   "metadata": {},
   "outputs": [
    {
     "name": "stdout",
     "output_type": "stream",
     "text": [
      "the volume of cube using function is :30.959144000000002\n",
      "the volume of cube is : 30.959144000000002\n"
     ]
    }
   ],
   "source": [
    "# calculate the  volume of cube using def and lambda\n",
    "\n",
    "def cube_volume_def(a):\n",
    "    return a*a*a\n",
    "print(f\"the volume of cube using function is :{cube_volume_def(3.14)}\")\n",
    "\n",
    "# same function using with lambda\n",
    "print(f\"the volume of cube is : {(lambda a:a*a*a)(3.14)}\")"
   ]
  },
  {
   "cell_type": "code",
   "execution_count": 4,
   "metadata": {},
   "outputs": [
    {
     "name": "stdout",
     "output_type": "stream",
     "text": [
      "the entered number is 22\n",
      "22x0=0\n",
      "22x1=22\n",
      "22x2=44\n",
      "22x3=66\n",
      "22x4=88\n",
      "22x5=110\n",
      "22x6=132\n",
      "22x7=154\n",
      "22x8=176\n",
      "22x9=198\n",
      "22x10=220\n"
     ]
    }
   ],
   "source": [
    "# multiplication table \n",
    "\n",
    "def mult_table(n):\n",
    "    return lambda x:x*n\n",
    "n = int(input(\"enter your number :\"))\n",
    "y =mult_table(n)\n",
    "\n",
    "print(f\"the entered number is {n}\")\n",
    "\n",
    "for i in range (11):\n",
    "    print((\"%dx%d=%d\" %(n,i,y(i))))"
   ]
  },
  {
   "cell_type": "code",
   "execution_count": 5,
   "metadata": {},
   "outputs": [
    {
     "data": {
      "text/plain": [
       "[6, 28]"
      ]
     },
     "execution_count": 5,
     "metadata": {},
     "output_type": "execute_result"
    }
   ],
   "source": [
    "# filter()\n",
    "# This program returns a new list when the special numbers in the list are divided by 2 and the remainder is equal to 0\n",
    "\n",
    "\n",
    "special_nums =[0.577, 1.618, 2.718, 3.14, 6, 28, 37, 1729]\n",
    "list(filter(lambda x:(x%2==0),special_nums))"
   ]
  },
  {
   "cell_type": "code",
   "execution_count": 6,
   "metadata": {},
   "outputs": [
    {
     "name": "stdout",
     "output_type": "stream",
     "text": [
      "Non special numbers are [2.885, 8.09, 13.59, 15.700000000000001, 30, 140, 185, 8645]\n",
      "Non special numbers list is [0.332929, 2.6179240000000004, 7.387524, 9.8596, 36, 784, 1369, 2989441]\n"
     ]
    }
   ],
   "source": [
    "# map ()\n",
    "\n",
    "# This program will multiplicate each element of the list with 5 and followed by power of 2.\n",
    "special_nums = [0.577, 1.618, 2.718, 3.14, 6, 28, 37, 1729]\n",
    "print(f'Non special numbers are {list(map(lambda x: x*5, special_nums))}')\n",
    "print(f'Non special numbers list is {list(map(lambda x: pow(x, 2), special_nums))}')\n"
   ]
  },
  {
   "cell_type": "code",
   "execution_count": 7,
   "metadata": {},
   "outputs": [
    {
     "name": "stdout",
     "output_type": "stream",
     "text": [
      "[3.14, 4.140000000000001, 5.140000000000001, 6.140000000000001, 7.140000000000001]\n"
     ]
    }
   ],
   "source": [
    "# list comprehensions\n",
    "nums =[lambda a=a:a+3.14 for a in range(5)]\n",
    "nlis=[]\n",
    "for num in nums:\n",
    "    nlis.append(num())\n",
    "print(nlis)"
   ]
  },
  {
   "cell_type": "code",
   "execution_count": 8,
   "metadata": {},
   "outputs": [
    {
     "name": "stdout",
     "output_type": "stream",
     "text": [
      "entered age is 22\n",
      "therefore you can vote \n"
     ]
    }
   ],
   "source": [
    "# lambda function with if /else\n",
    "age = int(input(\"enter an age\"))\n",
    "print(f\"entered age is {age}\")\n",
    "(lambda age: print(\"therefore you can vote \")if(age>=18)else print(\"therefore you cant vote \"))(age)"
   ]
  },
  {
   "cell_type": "code",
   "execution_count": 9,
   "metadata": {},
   "outputs": [
    {
     "name": "stdout",
     "output_type": "stream",
     "text": [
      "The maximum of special numbers in each list is [3.14, 1729].\n",
      "The minimum of special numbers in each list is [0.577, 6].\n"
     ]
    }
   ],
   "source": [
    "# lambda function usage with multiple statements \n",
    "\n",
    "special_nums = [[0.577 ,1.618,2.718 ,3.14],[6,28,37,1729]]\n",
    "special_nums_sorted = lambda a:(sorted(i) for i in a)\n",
    "\n",
    "# get the maximum of the list \n",
    "\n",
    "special_nums_max = lambda a, f:[y[len(y)-1] for y in f(a)]\n",
    "print(f'The maximum of special numbers in each list is {special_nums_max(special_nums, special_nums_sorted)}.')\n",
    "\n",
    "\n",
    "# get the minimum of the list\n",
    "\n",
    "special_nums_min = lambda a ,f:[y[len(y)-len(y)] for y in f(a)]\n",
    "print(f'The minimum of special numbers in each list is {special_nums_min(special_nums, special_nums_sorted)}.')\n",
    "\n"
   ]
  },
  {
   "cell_type": "code",
   "execution_count": 10,
   "metadata": {},
   "outputs": [
    {
     "name": "stdout",
     "output_type": "stream",
     "text": [
      "The multiplication of euler number and pi number is equal to 8.53452.\n",
      "The multiplication of euler number and euler constant is equal to 1.5682859999999998.\n"
     ]
    }
   ],
   "source": [
    "# some example \n",
    "\n",
    "\n",
    "def func(n):\n",
    " return lambda x: x*n\n",
    "mult_pi_number = func(3.14)\n",
    "mult_euler_constant = func(0.577)\n",
    "print(f'The multiplication of euler number and pi number is equal to {mult_pi_number(2.718)}.')\n",
    "print(f'The multiplication of euler number and euler constant is equal to {mult_euler_constant(2.718)}.')\n"
   ]
  },
  {
   "cell_type": "code",
   "execution_count": 11,
   "metadata": {},
   "outputs": [
    {
     "name": "stdout",
     "output_type": "stream",
     "text": [
      "<function <lambda> at 0x000001FA126A4AE0>\n"
     ]
    }
   ],
   "source": [
    "text =\"python is programing language \"\n",
    "print(lambda text :text)"
   ]
  },
  {
   "cell_type": "code",
   "execution_count": 12,
   "metadata": {},
   "outputs": [
    {
     "name": "stdout",
     "output_type": "stream",
     "text": [
      "pyhton is programing language\n"
     ]
    }
   ],
   "source": [
    "text=\"pyhton is programing language\"\n",
    "(lambda text :print(text))(text)"
   ]
  },
  {
   "cell_type": "code",
   "execution_count": 13,
   "metadata": {},
   "outputs": [
    {
     "name": "stdout",
     "output_type": "stream",
     "text": [
      "[37.68, 3.821656050955414, 15.14, 8.86, 2.5799999999999996, 2.5799999999999996, 2.5799999999999996]\n"
     ]
    }
   ],
   "source": [
    "lambda_list = []\n",
    "\n",
    "# Multiplication of pi number and 12 in one line using lambda function\n",
    "lambda_list.append((lambda x :x*3.14)(12))\n",
    "\n",
    "# Division of pi number and 12 in one line using lambda function\n",
    "\n",
    "lambda_list.append((lambda x :x/3.14)(12))\n",
    "\n",
    "# Addition of pi number and 12 in one line using lambda function\n",
    "lambda_list.append((lambda x :x+3.14)(12))\n",
    "# Subtraction of pi number and 12 in one line using lambda function\n",
    "lambda_list.append((lambda x :x-3.14)(12))\n",
    "# Remainder of pi number and 12 in one line using lambda function\n",
    "lambda_list.append((lambda x: x%3.14) (12))\n",
    "# Remainder of pi number and 12 in one line using lambda function\n",
    "lambda_list.append((lambda x: x%3.14) (12))\n",
    "# Remainder of pi number and 12 in one line using lambda function\n",
    "lambda_list.append((lambda x: x%3.14) (12))\n",
    "\n",
    "\n",
    "# printing list\n",
    "print(lambda_list)\n"
   ]
  },
  {
   "cell_type": "code",
   "execution_count": null,
   "metadata": {},
   "outputs": [],
   "source": []
  },
  {
   "cell_type": "code",
   "execution_count": null,
   "metadata": {},
   "outputs": [],
   "source": []
  },
  {
   "cell_type": "code",
   "execution_count": null,
   "metadata": {},
   "outputs": [],
   "source": []
  },
  {
   "cell_type": "code",
   "execution_count": null,
   "metadata": {},
   "outputs": [],
   "source": []
  },
  {
   "cell_type": "code",
   "execution_count": null,
   "metadata": {},
   "outputs": [],
   "source": []
  },
  {
   "cell_type": "code",
   "execution_count": null,
   "metadata": {},
   "outputs": [],
   "source": []
  },
  {
   "cell_type": "code",
   "execution_count": null,
   "metadata": {},
   "outputs": [],
   "source": []
  },
  {
   "cell_type": "code",
   "execution_count": null,
   "metadata": {},
   "outputs": [],
   "source": []
  },
  {
   "cell_type": "code",
   "execution_count": null,
   "metadata": {},
   "outputs": [],
   "source": []
  },
  {
   "cell_type": "code",
   "execution_count": null,
   "metadata": {},
   "outputs": [],
   "source": []
  },
  {
   "cell_type": "code",
   "execution_count": null,
   "metadata": {},
   "outputs": [],
   "source": []
  }
 ],
 "metadata": {
  "kernelspec": {
   "display_name": "Python 3",
   "language": "python",
   "name": "python3"
  },
  "language_info": {
   "codemirror_mode": {
    "name": "ipython",
    "version": 3
   },
   "file_extension": ".py",
   "mimetype": "text/x-python",
   "name": "python",
   "nbconvert_exporter": "python",
   "pygments_lexer": "ipython3",
   "version": "3.11.6"
  },
  "orig_nbformat": 4
 },
 "nbformat": 4,
 "nbformat_minor": 2
}
